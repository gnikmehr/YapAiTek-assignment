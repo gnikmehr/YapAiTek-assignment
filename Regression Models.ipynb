{
 "cells": [
  {
   "cell_type": "code",
   "execution_count": 1,
   "metadata": {},
   "outputs": [],
   "source": [
    "#Load the Data\n",
    "\n",
    "import pandas as pd\n",
    "\n",
    "data = pd.read_csv('data.csv',encoding='latin1')"
   ]
  },
  {
   "cell_type": "code",
   "execution_count": 10,
   "metadata": {},
   "outputs": [],
   "source": [
    "#Function for converting Categorical Features to Numerical\n",
    "\n",
    "def convertCategoricalToNumerical(inputData, NameOfColumn, column):\n",
    "    uniq_itemOfColumn = set(list(inputData[NameOfColumn]))\n",
    "    label_index = dict((c, i) for i, c in enumerate(uniq_itemOfColumn))\n",
    "    #print(len(label_index))\n",
    "    Y = []\n",
    "    for i in column:\n",
    "        Y.append(label_index[i])\n",
    "        \n",
    "    return Y"
   ]
  },
  {
   "cell_type": "code",
   "execution_count": 11,
   "metadata": {},
   "outputs": [],
   "source": [
    "#Preprocess Data: Choose some Features and convert them to numerical Features\n",
    "\n",
    "columns = ['Episode', 'Station', 'Channel Type', 'Season', 'Year','Day of week',\n",
    "           'Name of show','Genre','First time or rerun','# of episode in the season', \n",
    "           'Movie?','Game of the Canadiens during episode?']\n",
    "\n",
    "convertedX = pd.DataFrame(columns=columns)\n",
    "\n",
    "for c in columns:\n",
    "    convertedX[c] = convertCategoricalToNumerical(data, c, data[c])\n",
    "\n",
    "convertedX['Length'] = data['Length']\n",
    "convertedX['MarketShare_total'] = data['MarketShare_total']\n",
    "\n",
    "# Delete NAN records\n",
    "convertedX = convertedX.dropna()"
   ]
  },
  {
   "cell_type": "code",
   "execution_count": 4,
   "metadata": {},
   "outputs": [],
   "source": [
    "#Make Train and Test from the Data\n",
    "\n",
    "import numpy as np\n",
    "\n",
    "msk = np.random.rand(len(convertedX)) < 0.8\n",
    "train = convertedX[msk]\n",
    "test = convertedX[~msk]\n",
    "\n",
    "train_y = train.MarketShare_total\n",
    "train = train.drop('MarketShare_total', axis=1)\n",
    "\n",
    "test_y = test.MarketShare_total\n",
    "test = test.drop('MarketShare_total', axis=1)"
   ]
  },
  {
   "cell_type": "code",
   "execution_count": 5,
   "metadata": {},
   "outputs": [
    {
     "name": "stdout",
     "output_type": "stream",
     "text": [
      "MSE: 16.310708600670885\n",
      "MAE: 2.3786746679408073\n"
     ]
    }
   ],
   "source": [
    "# Linear Regression Model\n",
    "\n",
    "from sklearn import linear_model\n",
    "from sklearn.metrics import mean_squared_error\n",
    "from sklearn.metrics import mean_absolute_error\n",
    "   \n",
    "regr = linear_model.LinearRegression() \n",
    "regr.fit(train, train_y)\n",
    "\n",
    "predicted = regr.predict(test)\n",
    "\n",
    "print('MSE:', mean_squared_error(test_y, predicted))\n",
    "print('MAE:', mean_absolute_error(test_y, predicted))"
   ]
  },
  {
   "cell_type": "code",
   "execution_count": 6,
   "metadata": {},
   "outputs": [
    {
     "name": "stdout",
     "output_type": "stream",
     "text": [
      "MSE: 3.900934414957479\n",
      "MAE: 1.167668321548421\n"
     ]
    }
   ],
   "source": [
    "# Decision Tree Model for Regression\n",
    "\n",
    "from sklearn.tree import DecisionTreeRegressor\n",
    "from sklearn.metrics import mean_squared_error\n",
    "from sklearn.metrics import mean_absolute_error\n",
    "\n",
    "regressor = DecisionTreeRegressor(criterion='mse', max_depth=20)\n",
    "regressor.fit(train, train_y)\n",
    "\n",
    "regPred = regressor.predict(test)\n",
    "\n",
    "print('MSE:', mean_squared_error(test_y, regPred))\n",
    "print('MAE:', mean_absolute_error(test_y, regPred))"
   ]
  },
  {
   "cell_type": "code",
   "execution_count": 7,
   "metadata": {},
   "outputs": [
    {
     "name": "stdout",
     "output_type": "stream",
     "text": [
      "MSE: 3.5666570755689393\n",
      "MAE: 1.1209354290126314\n"
     ]
    }
   ],
   "source": [
    "# Random Forest Model for Regression\n",
    "\n",
    "from sklearn.ensemble import RandomForestRegressor \n",
    "from sklearn.metrics import mean_squared_error\n",
    "from sklearn.metrics import mean_absolute_error\n",
    "\n",
    "regressor = RandomForestRegressor(n_estimators = 100, random_state = 0) \n",
    "regressor.fit(train, train_y)  \n",
    "\n",
    "y_pred = regressor.predict(test)\n",
    "\n",
    "print('MSE:', mean_squared_error(test_y, y_pred))\n",
    "print('MAE:', mean_absolute_error(test_y, y_pred))"
   ]
  },
  {
   "cell_type": "code",
   "execution_count": 8,
   "metadata": {},
   "outputs": [
    {
     "name": "stdout",
     "output_type": "stream",
     "text": [
      "MSE: 4.851736390771469\n",
      "MAE: 1.355707896097597\n"
     ]
    }
   ],
   "source": [
    "# Gradient Boosting Model\n",
    "\n",
    "from sklearn.metrics import mean_squared_error\n",
    "from sklearn.metrics import mean_absolute_error\n",
    "from sklearn.ensemble import GradientBoostingRegressor\n",
    "\n",
    "est = GradientBoostingRegressor(n_estimators=100, learning_rate=0.2,\n",
    "                                max_depth=5, random_state=0, loss='ls')\n",
    "est.fit(train, train_y)\n",
    "\n",
    "Gpred = est.predict(test)\n",
    "\n",
    "print('MSE:', mean_squared_error(test_y, Gpred))\n",
    "print('MAE:', mean_absolute_error(test_y, Gpred))"
   ]
  },
  {
   "cell_type": "code",
   "execution_count": null,
   "metadata": {},
   "outputs": [],
   "source": [
    "# SVM for Regression \n",
    "\n",
    "import numpy as np\n",
    "from sklearn.svm import SVR\n",
    "from sklearn.metrics import mean_squared_error\n",
    "from sklearn.metrics import mean_absolute_error\n",
    "\n",
    "svr_rbf = SVR(kernel='rbf', C=1e3, gamma=0.1)\n",
    "y_rbf = svr_rbf.fit(train, train_y).predict(test)\n",
    "\n",
    "print('MSE:', mean_squared_error(test_y, y_rbf))\n",
    "print('MAE:', mean_absolute_error(test_y, y_rbf))"
   ]
  },
  {
   "cell_type": "code",
   "execution_count": 13,
   "metadata": {},
   "outputs": [
    {
     "name": "stdout",
     "output_type": "stream",
     "text": [
      "[0.97808865 1.60881837 1.24152846 ... 1.9601975  4.80771124 3.86916772]\n"
     ]
    }
   ],
   "source": [
    "# Load Test Data and Preprocess, then Predict with Random Forest Model\n",
    "\n",
    "TaskTest = pd.read_csv('test.csv',encoding='latin1')\n",
    "\n",
    "convertedTest = pd.DataFrame(columns=columns)\n",
    "for cc in columns:\n",
    "    convertedTest[cc] = convertCategoricalToNumerical(TaskTest, cc, TaskTest[cc])\n",
    "\n",
    "convertedTest['Length'] = TaskTest['Length']\n",
    "convertedTest = convertedTest.dropna()\n",
    "\n",
    "test_Prediction = regressor.predict(convertedTest)\n",
    "print(test_Prediction)"
   ]
  },
  {
   "cell_type": "code",
   "execution_count": null,
   "metadata": {},
   "outputs": [],
   "source": []
  }
 ],
 "metadata": {
  "kernelspec": {
   "display_name": "Python 3",
   "language": "python",
   "name": "python3"
  },
  "language_info": {
   "codemirror_mode": {
    "name": "ipython",
    "version": 3
   },
   "file_extension": ".py",
   "mimetype": "text/x-python",
   "name": "python",
   "nbconvert_exporter": "python",
   "pygments_lexer": "ipython3",
   "version": "3.7.4"
  }
 },
 "nbformat": 4,
 "nbformat_minor": 2
}
